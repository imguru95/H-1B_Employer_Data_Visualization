{
  "nbformat": 4,
  "nbformat_minor": 0,
  "metadata": {
    "colab": {
      "provenance": [],
      "mount_file_id": "1TQ304RGqrujcLmOpQ2ghW86ICWQQPR3Q",
      "authorship_tag": "ABX9TyMboy36JPfaVfvNf0fhhzRz",
      "include_colab_link": true
    },
    "kernelspec": {
      "name": "python3",
      "display_name": "Python 3"
    },
    "language_info": {
      "name": "python"
    }
  },
  "cells": [
    {
      "cell_type": "markdown",
      "metadata": {
        "id": "view-in-github",
        "colab_type": "text"
      },
      "source": [
        "<a href=\"https://colab.research.google.com/github/imguru95/H-1B_Employer_Data_Visualization/blob/main/H_1B_Employer_Data_Visualization.ipynb\" target=\"_parent\"><img src=\"https://colab.research.google.com/assets/colab-badge.svg\" alt=\"Open In Colab\"/></a>"
      ]
    },
    {
      "cell_type": "code",
      "source": [
        "import numpy as np\n",
        "import os\n",
        "import pandas as pd\n",
        "import seaborn as sns\n",
        "import matplotlib\n",
        "import matplotlib.pyplot as plt\n",
        "matplotlib.use('agg')"
      ],
      "metadata": {
        "id": "7ATNKs8SLnQk"
      },
      "execution_count": 87,
      "outputs": []
    },
    {
      "cell_type": "code",
      "source": [
        "from google.colab import drive\n",
        "drive.mount('/content/drive')\n",
        "os.chdir('/content/drive/MyDrive/data/')"
      ],
      "metadata": {
        "colab": {
          "base_uri": "https://localhost:8080/"
        },
        "id": "mSHO8EfYV_nA",
        "outputId": "e471eae2-606a-4afc-c065-f4a8ca5cb4ef"
      },
      "execution_count": 88,
      "outputs": [
        {
          "output_type": "stream",
          "name": "stdout",
          "text": [
            "Drive already mounted at /content/drive; to attempt to forcibly remount, call drive.mount(\"/content/drive\", force_remount=True).\n"
          ]
        }
      ]
    },
    {
      "cell_type": "code",
      "source": [
        "h1b_data_2019 = pd.read_csv('Employer_Information_2019.csv', delimiter='\\t', encoding='utf-16')\n",
        "h1b_data_2020 = pd.read_csv('Employer_Information_2020.csv', delimiter='\\t', encoding='utf-16')\n",
        "h1b_data_2021 = pd.read_csv('Employer_Information_2021.csv', delimiter='\\t', encoding='utf-16')\n",
        "h1b_data_2022 = pd.read_csv('Employer_Information_2022.csv', delimiter='\\t', encoding='utf-16')\n",
        "h1b_data_2023 = pd.read_csv('Employer_Information_2023.csv', delimiter='\\t', encoding='utf-16')\n",
        "h1b_data_2024 = pd.read_csv('Employer_Information_2024.csv', delimiter='\\t', encoding='utf-16')"
      ],
      "metadata": {
        "id": "SZQkU1oqXKf6"
      },
      "execution_count": 89,
      "outputs": []
    },
    {
      "cell_type": "code",
      "source": [
        "fiscal_years = [2019, 2020, 2021, 2022, 2023, 2024]\n",
        "h1b_dataframes = [h1b_data_2019, h1b_data_2020, h1b_data_2021, h1b_data_2022, h1b_data_2023, h1b_data_2024]"
      ],
      "metadata": {
        "id": "fL21IcczGzYg"
      },
      "execution_count": 90,
      "outputs": []
    },
    {
      "cell_type": "code",
      "source": [
        "numerical_columns = ['Initial Approval', 'Initial Denial', 'Continuing Approval', 'Continuing Denial']\n",
        "columns_to_drop = ['Line by line', 'Fiscal Year   ', 'Tax ID', 'Petitioner Zip Code']"
      ],
      "metadata": {
        "id": "UBPJ9p_widMO"
      },
      "execution_count": 91,
      "outputs": []
    },
    {
      "cell_type": "code",
      "source": [
        "for h1b_dataframe in h1b_dataframes:\n",
        "  h1b_dataframe.drop(columns_to_drop, axis=1, inplace=True)"
      ],
      "metadata": {
        "id": "PGhVlc3tjtIG"
      },
      "execution_count": 92,
      "outputs": []
    },
    {
      "cell_type": "markdown",
      "source": [],
      "metadata": {
        "id": "Ue1oE9f7B311"
      }
    },
    {
      "cell_type": "code",
      "source": [
        "for h1b_dataframe in h1b_dataframes:\n",
        "  for numerical_column in numerical_columns:\n",
        "    h1b_dataframe[numerical_column].replace(',', '', regex=True, inplace=True)"
      ],
      "metadata": {
        "id": "LzjXAgyHBkNl"
      },
      "execution_count": 93,
      "outputs": []
    },
    {
      "cell_type": "code",
      "source": [
        "for h1b_dataframe in h1b_dataframes:\n",
        "  for numerical_column in numerical_columns:\n",
        "    h1b_dataframe[numerical_column] = h1b_dataframe[numerical_column].apply(lambda x: int(x))"
      ],
      "metadata": {
        "id": "EJ7byOcwvQML"
      },
      "execution_count": 94,
      "outputs": []
    },
    {
      "cell_type": "code",
      "source": [
        "initial_approvals = []\n",
        "continuing_approvals = []\n",
        "\n",
        "for h1b_dataframe in h1b_dataframes:\n",
        "  initial_approvals.append(h1b_dataframe['Initial Approval'].sum())\n",
        "  continuing_approvals.append(h1b_dataframe['Continuing Approval'].sum())"
      ],
      "metadata": {
        "id": "6UcZjyFnPvPH"
      },
      "execution_count": 95,
      "outputs": []
    },
    {
      "cell_type": "code",
      "source": [
        "initial_denials = []\n",
        "continuing_denials = []\n",
        "\n",
        "for h1b_dataframe in h1b_dataframes:\n",
        "  initial_denials.append(h1b_dataframe['Initial Denial'].sum())\n",
        "  continuing_denials.append(h1b_dataframe['Continuing Denial'].sum())"
      ],
      "metadata": {
        "id": "_vBM3YfJZ1dR"
      },
      "execution_count": 96,
      "outputs": []
    },
    {
      "cell_type": "code",
      "source": [
        "initial_approvals_data = {'Fiscal Years': fiscal_years, 'Initial approvals': initial_approvals}\n",
        "\n",
        "# Create the line plot\n",
        "plt.figure(figsize=(8, 6))  # Set the figure size\n",
        "# sns.lineplot(x='Years', y='Initial approvals', data=initial_approvals_data)\n",
        "ax = sns.barplot(initial_approvals_data, x=\"Fiscal Years\", y=\"Initial approvals\")\n",
        "ax.bar_label(ax.containers[0], fontsize=10);\n",
        "\n",
        "# Set the title and axis labels\n",
        "plt.title('Initial approvals over the years')\n",
        "plt.xlabel('Fiscal Years-->')\n",
        "plt.ylabel('Initial approvals-->')\n",
        "\n",
        "# Rotate the x-axis labels for better readability\n",
        "plt.xticks(rotation=45)\n",
        "plt.savefig('plot.png')"
      ],
      "metadata": {
        "id": "3Ht0N2QuwZiM"
      },
      "execution_count": 97,
      "outputs": []
    },
    {
      "cell_type": "code",
      "source": [
        "continuing_approvals_data = {'Fiscal Years': fiscal_years, 'Continuing approvals': continuing_approvals}\n",
        "\n",
        "# Create the line plot\n",
        "plt.figure(figsize=(8, 6))  # Set the figure size\n",
        "ax = sns.barplot(x='Fiscal Years', y='Continuing approvals', data=continuing_approvals_data)\n",
        "ax.bar_label(ax.containers[0], fontsize=10);\n",
        "# Set the title and axis labels\n",
        "plt.title('Continuing approvals over the years')\n",
        "plt.xlabel('Fiscal Years-->')\n",
        "plt.ylabel('Continuing approvals-->')\n",
        "\n",
        "# Rotate the x-axis labels for better readability\n",
        "plt.xticks(rotation=45)\n",
        "plt.savefig('plot_1.png')"
      ],
      "metadata": {
        "id": "EpIh15qnYF5Y",
        "colab": {
          "base_uri": "https://localhost:8080/"
        },
        "outputId": "54ca41e2-92cd-4060-9f06-2aada695078e"
      },
      "execution_count": 98,
      "outputs": [
        {
          "output_type": "stream",
          "name": "stderr",
          "text": [
            "<ipython-input-98-733b918fbda5>:4: RuntimeWarning: More than 20 figures have been opened. Figures created through the pyplot interface (`matplotlib.pyplot.figure`) are retained until explicitly closed and may consume too much memory. (To control this warning, see the rcParam `figure.max_open_warning`). Consider using `matplotlib.pyplot.close()`.\n",
            "  plt.figure(figsize=(8, 6))  # Set the figure size\n"
          ]
        }
      ]
    },
    {
      "cell_type": "code",
      "source": [
        "initial_denials_data = {'Fiscal Years': fiscal_years, 'Initial denials': initial_denials}\n",
        "\n",
        "# Create the line plot\n",
        "plt.figure(figsize=(8, 6))  # Set the figure size\n",
        "ax = sns.barplot(x='Fiscal Years', y='Initial denials', data=initial_denials_data)\n",
        "ax.bar_label(ax.containers[0], fontsize=10);\n",
        "# Set the title and axis labels\n",
        "plt.title('Initial denials over the years')\n",
        "plt.xlabel('Fiscal Years-->')\n",
        "plt.ylabel('Initial denials-->')\n",
        "\n",
        "# Rotate the x-axis labels for better readability\n",
        "plt.xticks(rotation=45)\n",
        "plt.savefig('plot_2.png')"
      ],
      "metadata": {
        "id": "E4w5cw0EZMJz"
      },
      "execution_count": 99,
      "outputs": []
    },
    {
      "cell_type": "code",
      "source": [
        "continuing_denials_data = {'Fiscal Years': fiscal_years, 'Continuing denials': continuing_denials}\n",
        "\n",
        "# Create the line plot\n",
        "plt.figure(figsize=(8, 6))  # Set the figure size\n",
        "ax = sns.barplot(x='Fiscal Years', y='Continuing denials', data=continuing_denials_data)\n",
        "ax.bar_label(ax.containers[0], fontsize=10);\n",
        "# Set the title and axis labels\n",
        "plt.title('Continuing denials over the years')\n",
        "plt.xlabel('Fiscal Years-->')\n",
        "plt.ylabel('Continuing denials-->')\n",
        "\n",
        "# Rotate the x-axis labels for better readability\n",
        "plt.xticks(rotation=45)\n",
        "plt.savefig('plot_3.png')"
      ],
      "metadata": {
        "id": "qapPH7LEZpFn"
      },
      "execution_count": 100,
      "outputs": []
    },
    {
      "cell_type": "markdown",
      "source": [
        "Plots to do :  \n",
        "~~1) Bar plot of total approvals and denials(initial and continuing) over the years.~~\n",
        "\n",
        "2) 5 highest approvals and denials(initial and continuing) for every year and the company names.\n",
        "\n",
        "3) Approvals and denials(initial and continuing) for consultancies and staffing agencies for every year.\n",
        "\n",
        "4) Piechart of 5 highest approvals(%) and denials(%)(initial and continuing) for every year.\n",
        "\n",
        "5) Top 5 highest approvals and denials(initial and continuing) and respective states for each year.\n",
        "\n",
        "6) Pie chart of highest approval and denial states and their shares in percentage.\n",
        "\n",
        "7) Top cities for states of highest approvals and denials every year.\n"
      ],
      "metadata": {
        "id": "TkQudBK7O1hD"
      }
    },
    {
      "cell_type": "code",
      "source": [
        "ind = 0\n",
        "largest_initial_approvals = pd.DataFrame()\n",
        "for h1b_dataframe in h1b_dataframes:\n",
        "  h1b_dataframe = h1b_dataframe.nlargest(5, columns=['Initial Approval'])[['Employer (Petitioner) Name', 'Initial Approval']]\n",
        "  h1b_dataframe['Year'] = fiscal_years[ind]\n",
        "  largest_initial_approvals = pd.concat([largest_initial_approvals, h1b_dataframe])\n",
        "  ind+=1\n",
        "\n",
        "print(largest_initial_approvals)\n",
        "print(\"x = \", largest_initial_approvals.shape[1])\n",
        "\n",
        "g = sns.catplot(\n",
        "    data=largest_initial_approvals, kind=\"bar\",\n",
        "    x=\"Year\", y=\"Initial Approval\", hue=\"Employer (Petitioner) Name\"\n",
        ")\n",
        "plt.savefig('plot_4.png')"
      ],
      "metadata": {
        "colab": {
          "base_uri": "https://localhost:8080/"
        },
        "id": "5BASqSLEF6Jr",
        "outputId": "96fc5071-da50-41d0-e3f5-02ef385290ba"
      },
      "execution_count": 115,
      "outputs": [
        {
          "output_type": "stream",
          "name": "stdout",
          "text": [
            "                   Employer (Petitioner) Name  Initial Approval  Year\n",
            "2975                  AMAZON COM SERVICES INC              2688  2019\n",
            "22946                              GOOGLE LLC              2656  2019\n",
            "53034               TATA CONSULTANCY SVCS LTD              1737  2019\n",
            "35354                   MICROSOFT CORPORATION              1695  2019\n",
            "12243        COGNIZANT TECH SOLUTIONS US CORP              1573  2019\n",
            "25744                         INFOSYS LIMITED              3491  2020\n",
            "50365               TATA CONSULTANCY SVCS LTD              2404  2020\n",
            "2761                  AMAZON COM SERVICES LLC              1853  2020\n",
            "33616                   MICROSOFT CORPORATION              1786  2020\n",
            "21729                              GOOGLE LLC              1660  2020\n",
            "24455                         INFOSYS LIMITED              3219  2021\n",
            "47919               TATA CONSULTANCY SVCS LTD              3061  2021\n",
            "2765                  AMAZON COM SERVICES LLC              2824  2021\n",
            "2754                  AMAZON COM SERVICES LLC              1957  2021\n",
            "11289       COGNIZANT TECHNOLOGY SOLUTIONS US              1460  2021\n",
            "2850                  AMAZON.COM SERVICES LLC              3216  2022\n",
            "25990                         INFOSYS LIMITED              3108  2022\n",
            "50833               TATA CONSULTANCY SVCS LTD              2721  2022\n",
            "11969  COGNIZANT TECHNOLOGY SOLUTIONS US CORP              2233  2022\n",
            "22083                              GOOGLE LLC              1567  2022\n",
            "2715                  AMAZON.COM SERVICES LLC              2775  2023\n",
            "11271  COGNIZANT TECHNOLOGY SOLUTIONS US CORP              2390  2023\n",
            "24547                         INFOSYS LIMITED              2128  2023\n",
            "20842                              GOOGLE LLC              1262  2023\n",
            "47757               TATA CONSULTANCY SVCS LTD              1165  2023\n",
            "14788                         INFOSYS LIMITED              1029  2024\n",
            "6819   COGNIZANT TECHNOLOGY SOLUTIONS US CORP               873  2024\n",
            "1698                  AMAZON.COM SERVICES LLC               654  2024\n",
            "14226                         IBM CORPORATION               481  2024\n",
            "5350                    CAPGEMINI AMERICA INC               440  2024\n",
            "x =  3\n"
          ]
        }
      ]
    }
  ]
}